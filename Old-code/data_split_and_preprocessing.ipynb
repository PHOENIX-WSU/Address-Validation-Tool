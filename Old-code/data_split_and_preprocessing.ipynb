{
 "cells": [
  {
   "cell_type": "code",
   "execution_count": 2,
   "id": "4b3dfb4d",
   "metadata": {},
   "outputs": [],
   "source": [
    "import pandas as pd\n",
    "import os"
   ]
  },
  {
   "cell_type": "code",
   "execution_count": 1,
   "id": "26fdba03",
   "metadata": {},
   "outputs": [
    {
     "name": "stdout",
     "output_type": "stream",
     "text": [
      "Created output directory: Data/SplitFiles\n",
      "Splitting 'Data/patientDEMOGRAPHICS-11th-July-2025.csv' into chunks of 20000 rows...\n",
      "Saved 20000 rows to 'Data/SplitFiles\\patientDEMOGRAPHICS-part-1.csv'\n",
      "Saved 20000 rows to 'Data/SplitFiles\\patientDEMOGRAPHICS-part-2.csv'\n",
      "Saved 20000 rows to 'Data/SplitFiles\\patientDEMOGRAPHICS-part-3.csv'\n",
      "Saved 7378 rows to 'Data/SplitFiles\\patientDEMOGRAPHICS-part-4.csv'\n",
      "CSV splitting complete!\n"
     ]
    }
   ],
   "source": [
    "import pandas as pd\n",
    "import os\n",
    "\n",
    "def split_csv_file(input_filepath, output_directory, chunk_size=20000):\n",
    "    \"\"\"\n",
    "    Splits a large CSV file into smaller CSV files, each with a specified number of rows.\n",
    "\n",
    "    Args:\n",
    "        input_filepath (str): The path to the input CSV file.\n",
    "        output_directory (str): The directory where the split files will be saved.\n",
    "        chunk_size (int): The number of rows for each split file (excluding the header).\n",
    "    \"\"\"\n",
    "\n",
    "    # Create the output directory if it doesn't exist\n",
    "    if not os.path.exists(output_directory):\n",
    "        os.makedirs(output_directory)\n",
    "        print(f\"Created output directory: {output_directory}\")\n",
    "\n",
    "    # Read the CSV in chunks\n",
    "    print(f\"Splitting '{input_filepath}' into chunks of {chunk_size} rows...\")\n",
    "    chunk_number = 0\n",
    "    header = None\n",
    "\n",
    "    for i, chunk in enumerate(pd.read_csv(input_filepath, chunksize=chunk_size)):\n",
    "        if i == 0:\n",
    "            # Store the header from the first chunk\n",
    "            header = list(chunk.columns)\n",
    "\n",
    "        output_filename = os.path.join(output_directory, f'patientDEMOGRAPHICS-part-{chunk_number + 1}.csv')\n",
    "        \n",
    "        # Write each chunk to a new CSV file, including the header\n",
    "        if chunk_number == 0:\n",
    "            # For the first file, pandas will write the header by default\n",
    "            chunk.to_csv(output_filename, index=False)\n",
    "        else:\n",
    "            # For subsequent files, manually write the header and then append the data\n",
    "            # This is handled by pandas' to_csv with header=True, \n",
    "            # as it automatically includes the header from the DataFrame.\n",
    "            chunk.to_csv(output_filename, index=False)\n",
    "        \n",
    "        print(f\"Saved {len(chunk)} rows to '{output_filename}'\")\n",
    "        chunk_number += 1\n",
    "\n",
    "    print(\"CSV splitting complete!\")\n",
    "\n",
    "# --- Configuration ---\n",
    "input_csv_file = 'Data/patientDEMOGRAPHICS-11th-July-2025.csv'\n",
    "output_dir = 'Data/SplitFiles' # This directory will be created if it doesn't exist\n",
    "rows_per_file = 20000\n",
    "\n",
    "# --- Run the splitter ---\n",
    "split_csv_file(input_csv_file, output_dir, rows_per_file)"
   ]
  },
  {
   "cell_type": "code",
   "execution_count": 3,
   "id": "c80ddc95",
   "metadata": {},
   "outputs": [],
   "source": [
    "df_subset = (pd.read_csv('Data/Test-Datasets/WayneHealthpatientDEMOGRAPHICS.csv').drop_duplicates())\n",
    "df_complete = (pd.read_csv('Data/patientDEMOGRAPHICS-11th-July-2025.csv').drop_duplicates())"
   ]
  },
  {
   "cell_type": "code",
   "execution_count": 3,
   "id": "1e9f97c7",
   "metadata": {},
   "outputs": [
    {
     "data": {
      "text/plain": [
       "(35478, 23)"
      ]
     },
     "execution_count": 3,
     "metadata": {},
     "output_type": "execute_result"
    }
   ],
   "source": [
    "df_subset.shape"
   ]
  },
  {
   "cell_type": "code",
   "execution_count": 4,
   "id": "ef5c8a0e",
   "metadata": {},
   "outputs": [],
   "source": [
    "merged_df = df_complete.merge(df_subset, on=list(df_complete.columns),\n",
    "                              how='left', indicator=True)\n",
    "\n",
    "# Filter out rows that were found in df_subset\n",
    "df_complete_filtered = merged_df[merged_df['_merge'] == 'left_only'].drop(columns=['_merge'])"
   ]
  },
  {
   "cell_type": "code",
   "execution_count": 5,
   "id": "e16cfdc2",
   "metadata": {},
   "outputs": [
    {
     "data": {
      "text/plain": [
       "(67378, 23)"
      ]
     },
     "execution_count": 5,
     "metadata": {},
     "output_type": "execute_result"
    }
   ],
   "source": [
    "df_complete.shape"
   ]
  },
  {
   "cell_type": "code",
   "execution_count": 5,
   "id": "8bef5358",
   "metadata": {},
   "outputs": [
    {
     "data": {
      "text/plain": [
       "(31900, 23)"
      ]
     },
     "execution_count": 5,
     "metadata": {},
     "output_type": "execute_result"
    }
   ],
   "source": [
    "df_complete_filtered.shape"
   ]
  },
  {
   "cell_type": "code",
   "execution_count": 6,
   "id": "48e4ccbc",
   "metadata": {},
   "outputs": [],
   "source": [
    "df_complete_filtered.to_csv('Data/patientDEMOGRAPHICS-Remaining.csv', index = False)"
   ]
  },
  {
   "cell_type": "code",
   "execution_count": null,
   "id": "29545375",
   "metadata": {},
   "outputs": [],
   "source": []
  }
 ],
 "metadata": {
  "kernelspec": {
   "display_name": "Address-Correction",
   "language": "python",
   "name": "python3"
  },
  "language_info": {
   "codemirror_mode": {
    "name": "ipython",
    "version": 3
   },
   "file_extension": ".py",
   "mimetype": "text/x-python",
   "name": "python",
   "nbconvert_exporter": "python",
   "pygments_lexer": "ipython3",
   "version": "3.11.13"
  }
 },
 "nbformat": 4,
 "nbformat_minor": 5
}
