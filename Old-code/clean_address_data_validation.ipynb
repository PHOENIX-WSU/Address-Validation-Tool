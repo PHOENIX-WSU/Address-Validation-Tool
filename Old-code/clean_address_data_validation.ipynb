{
 "cells": [
  {
   "cell_type": "code",
   "execution_count": 1,
   "id": "c251b3d9",
   "metadata": {},
   "outputs": [],
   "source": [
    "import pandas as pd"
   ]
  },
  {
   "cell_type": "code",
   "execution_count": 4,
   "id": "fc33a02c",
   "metadata": {},
   "outputs": [
    {
     "name": "stdout",
     "output_type": "stream",
     "text": [
      "5246\n"
     ]
    }
   ],
   "source": [
    "df = pd.read_csv('Data/van.csv')\n",
    "print(df['Street Address'].isnull().sum())"
   ]
  },
  {
   "cell_type": "code",
   "execution_count": 5,
   "id": "819683b3",
   "metadata": {},
   "outputs": [
    {
     "data": {
      "text/html": [
       "<div>\n",
       "<style scoped>\n",
       "    .dataframe tbody tr th:only-of-type {\n",
       "        vertical-align: middle;\n",
       "    }\n",
       "\n",
       "    .dataframe tbody tr th {\n",
       "        vertical-align: top;\n",
       "    }\n",
       "\n",
       "    .dataframe thead th {\n",
       "        text-align: right;\n",
       "    }\n",
       "</style>\n",
       "<table border=\"1\" class=\"dataframe\">\n",
       "  <thead>\n",
       "    <tr style=\"text-align: right;\">\n",
       "      <th></th>\n",
       "      <th>dataset</th>\n",
       "      <th>dateingested</th>\n",
       "      <th>DOS</th>\n",
       "      <th>Start Time</th>\n",
       "      <th>Stop Time</th>\n",
       "      <th>Street Address</th>\n",
       "      <th>City</th>\n",
       "      <th>Zip Code</th>\n",
       "    </tr>\n",
       "  </thead>\n",
       "  <tbody>\n",
       "    <tr>\n",
       "      <th>0</th>\n",
       "      <td>MHU Field Data: Van deployment addresses with ...</td>\n",
       "      <td>2025-07-09</td>\n",
       "      <td>2021-02-04</td>\n",
       "      <td>NaN</td>\n",
       "      <td>NaN</td>\n",
       "      <td>NaN</td>\n",
       "      <td>NaN</td>\n",
       "      <td>NaN</td>\n",
       "    </tr>\n",
       "    <tr>\n",
       "      <th>1</th>\n",
       "      <td>MHU Field Data: Van deployment addresses with ...</td>\n",
       "      <td>2025-07-09</td>\n",
       "      <td>2021-05-22</td>\n",
       "      <td>NaN</td>\n",
       "      <td>NaN</td>\n",
       "      <td>NaN</td>\n",
       "      <td>NaN</td>\n",
       "      <td>NaN</td>\n",
       "    </tr>\n",
       "    <tr>\n",
       "      <th>2</th>\n",
       "      <td>MHU Field Data: Van deployment addresses with ...</td>\n",
       "      <td>2025-07-09</td>\n",
       "      <td>2021-07-31</td>\n",
       "      <td>NaN</td>\n",
       "      <td>NaN</td>\n",
       "      <td>NaN</td>\n",
       "      <td>NaN</td>\n",
       "      <td>NaN</td>\n",
       "    </tr>\n",
       "    <tr>\n",
       "      <th>3</th>\n",
       "      <td>MHU Field Data: Van deployment addresses with ...</td>\n",
       "      <td>2025-07-09</td>\n",
       "      <td>2024-01-15</td>\n",
       "      <td>NaN</td>\n",
       "      <td>NaN</td>\n",
       "      <td>NaN</td>\n",
       "      <td>NaN</td>\n",
       "      <td>NaN</td>\n",
       "    </tr>\n",
       "    <tr>\n",
       "      <th>4</th>\n",
       "      <td>MHU Field Data: Van deployment addresses with ...</td>\n",
       "      <td>2025-07-09</td>\n",
       "      <td>2024-08-10</td>\n",
       "      <td>NaN</td>\n",
       "      <td>NaN</td>\n",
       "      <td>NaN</td>\n",
       "      <td>NaN</td>\n",
       "      <td>NaN</td>\n",
       "    </tr>\n",
       "  </tbody>\n",
       "</table>\n",
       "</div>"
      ],
      "text/plain": [
       "                                             dataset dateingested         DOS  \\\n",
       "0  MHU Field Data: Van deployment addresses with ...   2025-07-09  2021-02-04   \n",
       "1  MHU Field Data: Van deployment addresses with ...   2025-07-09  2021-05-22   \n",
       "2  MHU Field Data: Van deployment addresses with ...   2025-07-09  2021-07-31   \n",
       "3  MHU Field Data: Van deployment addresses with ...   2025-07-09  2024-01-15   \n",
       "4  MHU Field Data: Van deployment addresses with ...   2025-07-09  2024-08-10   \n",
       "\n",
       "   Start Time  Stop Time  Street Address City  Zip Code  \n",
       "0         NaN        NaN             NaN  NaN       NaN  \n",
       "1         NaN        NaN             NaN  NaN       NaN  \n",
       "2         NaN        NaN             NaN  NaN       NaN  \n",
       "3         NaN        NaN             NaN  NaN       NaN  \n",
       "4         NaN        NaN             NaN  NaN       NaN  "
      ]
     },
     "execution_count": 5,
     "metadata": {},
     "output_type": "execute_result"
    }
   ],
   "source": [
    "df.head()"
   ]
  },
  {
   "cell_type": "code",
   "execution_count": null,
   "id": "8430b330",
   "metadata": {},
   "outputs": [],
   "source": []
  }
 ],
 "metadata": {
  "kernelspec": {
   "display_name": "Address-Correction",
   "language": "python",
   "name": "python3"
  },
  "language_info": {
   "codemirror_mode": {
    "name": "ipython",
    "version": 3
   },
   "file_extension": ".py",
   "mimetype": "text/x-python",
   "name": "python",
   "nbconvert_exporter": "python",
   "pygments_lexer": "ipython3",
   "version": "3.11.13"
  }
 },
 "nbformat": 4,
 "nbformat_minor": 5
}
