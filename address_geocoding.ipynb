{
 "cells": [
  {
   "cell_type": "code",
   "execution_count": 4,
   "id": "83d5d164",
   "metadata": {},
   "outputs": [
    {
     "name": "stdout",
     "output_type": "stream",
     "text": [
      "Reading your corrected address file from: Data/Test-Datasets/WayneHealthpatientDEMOGRAPHICSAddressCorrected.csv\n",
      "Preparing a clean file formatted for the Census Geocoder...\n",
      "Removed 479 rows that had an empty street address.\n",
      "\n",
      "Success! ✨\n",
      "A new, clean file is ready for upload at: Data/addresses_for_geocoding.csv\n"
     ]
    }
   ],
   "source": [
    "import pandas as pd\n",
    "import os\n",
    "\n",
    "# --- Configuration ---\n",
    "# The file produced by our address cleaning script\n",
    "INPUT_FILE_PATH = \"Data/Test-Datasets/WayneHealthpatientDEMOGRAPHICSAddressCorrected.csv\"\n",
    "\n",
    "# The new, cleaned file ready for upload\n",
    "OUTPUT_FILE_PATH = \"Data/addresses_for_geocoding.csv\"\n",
    "\n",
    "# --- Main Script ---\n",
    "try:\n",
    "    print(f\"Reading your corrected address file from: {INPUT_FILE_PATH}\")\n",
    "    # Read all data as strings and replace any nulls with empty strings\n",
    "    df = pd.read_csv(INPUT_FILE_PATH, dtype=str, nrows=10000).fillna('')\n",
    "\n",
    "    print(\"Preparing a clean file formatted for the Census Geocoder...\")\n",
    "\n",
    "    # --- CRITICAL FIX: Remove rows with no street address ---\n",
    "    # The geocoder will fail if this column is empty.\n",
    "    original_rows = len(df)\n",
    "    df = df[df['cleaned_street_address'].str.strip() != ''].copy()\n",
    "    print(f\"Removed {original_rows - len(df)} rows that had an empty street address.\")\n",
    "    # ---------------------------------------------------------\n",
    "\n",
    "    # 1. Select only the necessary 'cleaned' columns and rename them\n",
    "    geocoder_df = df[[\n",
    "        'cleaned_street_address',\n",
    "        'cleaned_city',\n",
    "        'cleaned_state',\n",
    "        'cleaned_zip'\n",
    "    ]].rename(columns={\n",
    "        'cleaned_street_address': 'Street Address',\n",
    "        'cleaned_city': 'City',\n",
    "        'cleaned_state': 'State',\n",
    "        'cleaned_zip': 'ZIP'\n",
    "    })\n",
    "\n",
    "    # 2. Insert the 'Unique ID' column at the beginning\n",
    "    # Using the original DataFrame's index is crucial for merging the results back later.\n",
    "    geocoder_df.insert(0, 'Unique ID', df.index)\n",
    "\n",
    "    # 4. Save the new DataFrame to a new CSV file\n",
    "    os.makedirs(os.path.dirname(OUTPUT_FILE_PATH), exist_ok=True)\n",
    "    geocoder_df.to_csv(OUTPUT_FILE_PATH, index=False)\n",
    "\n",
    "    print(f\"\\nSuccess! ✨\")\n",
    "    print(f\"A new, clean file is ready for upload at: {OUTPUT_FILE_PATH}\")\n",
    "\n",
    "except FileNotFoundError:\n",
    "    print(f\"Error: Input file not found at '{INPUT_FILE_PATH}'. Please make sure the file exists.\")\n",
    "except Exception as e:\n",
    "    print(f\"An error occurred: {e}\")"
   ]
  },
  {
   "cell_type": "code",
   "execution_count": null,
   "id": "31c11f2f",
   "metadata": {},
   "outputs": [],
   "source": []
  }
 ],
 "metadata": {
  "kernelspec": {
   "display_name": "Address-Correction",
   "language": "python",
   "name": "python3"
  },
  "language_info": {
   "codemirror_mode": {
    "name": "ipython",
    "version": 3
   },
   "file_extension": ".py",
   "mimetype": "text/x-python",
   "name": "python",
   "nbconvert_exporter": "python",
   "pygments_lexer": "ipython3",
   "version": "3.11.13"
  }
 },
 "nbformat": 4,
 "nbformat_minor": 5
}
